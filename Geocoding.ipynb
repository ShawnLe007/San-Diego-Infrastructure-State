{
 "cells": [
  {
   "cell_type": "code",
   "execution_count": null,
   "metadata": {
    "collapsed": true
   },
   "outputs": [],
   "source": [
    "import urllib\n",
    "import json\n",
    "import urllib.request\n",
    "from urllib.error import HTTPError\n",
    "import numpy as np\n",
    "import pandas as pd\n",
    "import matplotlib.pyplot as plt\n",
    "import re \n",
    "import difflib \n",
    "import requests\n"
   ]
  },
  {
   "cell_type": "code",
   "execution_count": null,
   "metadata": {
    "collapsed": false
   },
   "outputs": [],
   "source": []
  },
  {
   "cell_type": "code",
   "execution_count": null,
   "metadata": {
    "collapsed": true
   },
   "outputs": [],
   "source": []
  },
  {
   "cell_type": "code",
   "execution_count": null,
   "metadata": {
    "collapsed": false
   },
   "outputs": [],
   "source": [
    "DF = pd.read_csv('DF_1.csv',sep = ',', dtype='unicode') #Read the csv file"
   ]
  },
  {
   "cell_type": "code",
   "execution_count": null,
   "metadata": {
    "collapsed": false
   },
   "outputs": [],
   "source": [
    "lat = []\n",
    "long = []\n",
    "a = 0\n",
    "for i in range (10) :\n",
    "    query = DF.PRIMARY_RD[i] + ' & ' + DF.SECONDARY_RD[i] + ' San Diego, CA'\n",
    "    #print(i)\n",
    "    lati,longi = get_coordinates2(query)\n",
    "    lat.append(lati)\n",
    "    long.append(longi)\n",
    "    \n",
    "print(lat,long)\n",
    "LL = pd.DataFrame({'LAT': lat, 'LONG': long})\n",
    "LL.to_csv('LL.csv')"
   ]
  },
  {
   "cell_type": "code",
   "execution_count": null,
   "metadata": {
    "collapsed": false
   },
   "outputs": [],
   "source": []
  },
  {
   "cell_type": "code",
   "execution_count": null,
   "metadata": {
    "collapsed": false
   },
   "outputs": [],
   "source": [
    "googleGeocodeUrl = 'http://maps.googleapis.com/maps/api/geocode/json?'\n",
    "\n",
    "def get_coordinates(query):\n",
    "    googleGeocodeUrl = 'http://maps.googleapis.com/maps/api/geocode/json?'\n",
    "    params = {\n",
    "        'address': query,\n",
    "        'sensor': \"true\" if from_sensor else \"false\"\n",
    "    }\n",
    "    url = googleGeocodeUrl + urllib.parse.urlencode(params)\n",
    "    try : \n",
    "        json_response = urllib.request.urlopen(url)\n",
    "        response = json.loads(json_response.read())\n",
    "        if response['results']:\n",
    "            #print((response['results'][0]))\n",
    "            location = response['results'][0]['geometry']['location']\n",
    "            latitude, longitude = location['lat'], location['lng']\n",
    "            #print (query, latitude, longitude)\n",
    "        else:\n",
    "            latitude, longitude = 0,0\n",
    "            print (query, \"<no results>\")\n",
    "        return (latitude, longitude)\n",
    "    except HTTPError as e : \n",
    "        response = e.read()\n",
    "        print('HTTP error',response)\n",
    "        return (1,1)\n",
    "    "
   ]
  },
  {
   "cell_type": "code",
   "execution_count": null,
   "metadata": {
    "collapsed": false
   },
   "outputs": [],
   "source": [
    "def get_coordinates2(query):\n",
    "    query = query.encode('utf-8')\n",
    "    url = 'https://maps.googleapis.com/maps/api/geocode/json'\n",
    "    params = {\n",
    "        'sensor': 'false', \n",
    "        'address': query\n",
    "            }\n",
    "    r = requests.get(url, params=params)\n",
    "    results = r.json()['results']\n",
    "    if results != [] : \n",
    "        location = results[0]['geometry']['location']\n",
    "        lat = location['lat']\n",
    "        long = location['lng']\n",
    "        print(lat,long)\n",
    "        return(lat,long)\n",
    "    else : \n",
    "        print(\"No hay resulto\")\n",
    "        return(1,1)"
   ]
  },
  {
   "cell_type": "code",
   "execution_count": null,
   "metadata": {
    "collapsed": true
   },
   "outputs": [],
   "source": []
  }
 ],
 "metadata": {
  "kernelspec": {
   "display_name": "Python 3",
   "language": "python",
   "name": "python3"
  },
  "language_info": {
   "codemirror_mode": {
    "name": "ipython",
    "version": 3
   },
   "file_extension": ".py",
   "mimetype": "text/x-python",
   "name": "python",
   "nbconvert_exporter": "python",
   "pygments_lexer": "ipython3",
   "version": "3.6.0"
  }
 },
 "nbformat": 4,
 "nbformat_minor": 2
}
